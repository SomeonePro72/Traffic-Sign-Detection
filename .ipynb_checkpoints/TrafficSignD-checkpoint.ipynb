{
 "cells": [
  {
   "cell_type": "code",
   "execution_count": 56,
   "metadata": {
    "pycharm": {
     "name": "#%%\n"
    }
   },
   "outputs": [],
   "source": [
    "import numpy as np\n",
    "from PIL import Image\n",
    "import os\n",
    "from sklearn.model_selection import train_test_split\n",
    "from keras.utils import to_categorical\n",
    "from keras.models import Sequential\n",
    "from keras.layers import Conv2D, MaxPool2D, Dense, Flatten, Dropout\n",
    "\n",
    "data = []\n",
    "labels = []\n",
    "classes = 43\n",
    "cur_path = os.getcwd()\n",
    "\n",
    "for i in range(classes):\n",
    "    path = os.path.join(cur_path, 'train', str(i))\n",
    "    images = os.listdir(path)\n",
    "\n",
    "    for a in images:\n",
    "        try:\n",
    "            image = Image.open(path + '\\\\' + a)\n",
    "            image = image.resize((30, 30))\n",
    "            image = np.array(image)\n",
    "            data.append(image)\n",
    "            labels.append(i)\n",
    "        except:\n",
    "            print(\"Error loading image\")\n",
    "\n",
    "\n",
    "data = np.array(data)\n",
    "labels = np.array(labels)\n",
    "\n",
    "# print(data.shape, labels.shape)\n",
    "X_train, X_test, y_train, y_test = train_test_split(data, labels, test_size=0.2, random_state=42)\n",
    "\n",
    "#print(X_train.shape, X_test.shape, y_train.shape, y_test.shape)\n",
    "\n",
    "\n",
    "y_train = to_categorical(y_train, 43)\n",
    "y_test = to_categorical(y_test, 43)"
   ]
  },
  {
   "cell_type": "code",
   "execution_count": 23,
   "metadata": {
    "pycharm": {
     "name": "#%%\n"
    }
   },
   "outputs": [
    {
     "ename": "NameError",
     "evalue": "name 'Sequential' is not defined",
     "output_type": "error",
     "traceback": [
      "\u001b[1;31m---------------------------------------------------------------------------\u001b[0m",
      "\u001b[1;31mNameError\u001b[0m                                 Traceback (most recent call last)",
      "\u001b[1;32m~\\AppData\\Local\\Temp\\ipykernel_15000\\1279541464.py\u001b[0m in \u001b[0;36m<module>\u001b[1;34m\u001b[0m\n\u001b[1;32m----> 1\u001b[1;33m \u001b[0mmodel\u001b[0m \u001b[1;33m=\u001b[0m \u001b[0mSequential\u001b[0m\u001b[1;33m(\u001b[0m\u001b[1;33m)\u001b[0m\u001b[1;33m\u001b[0m\u001b[1;33m\u001b[0m\u001b[0m\n\u001b[0m\u001b[0;32m      2\u001b[0m \u001b[0mmodel2\u001b[0m \u001b[1;33m=\u001b[0m \u001b[0mSequential\u001b[0m\u001b[1;33m(\u001b[0m\u001b[1;33m)\u001b[0m\u001b[1;33m\u001b[0m\u001b[1;33m\u001b[0m\u001b[0m\n\u001b[0;32m      3\u001b[0m \u001b[0mmodel\u001b[0m\u001b[1;33m.\u001b[0m\u001b[0madd\u001b[0m\u001b[1;33m(\u001b[0m\u001b[0mConv2D\u001b[0m\u001b[1;33m(\u001b[0m\u001b[0mfilters\u001b[0m\u001b[1;33m=\u001b[0m\u001b[1;36m32\u001b[0m\u001b[1;33m,\u001b[0m \u001b[0mkernel_size\u001b[0m\u001b[1;33m=\u001b[0m\u001b[1;33m(\u001b[0m\u001b[1;36m5\u001b[0m\u001b[1;33m,\u001b[0m \u001b[1;36m5\u001b[0m\u001b[1;33m)\u001b[0m\u001b[1;33m,\u001b[0m \u001b[0mactivation\u001b[0m\u001b[1;33m=\u001b[0m\u001b[1;34m'relu'\u001b[0m\u001b[1;33m,\u001b[0m \u001b[0minput_shape\u001b[0m\u001b[1;33m=\u001b[0m\u001b[0mX_train\u001b[0m\u001b[1;33m.\u001b[0m\u001b[0mshape\u001b[0m\u001b[1;33m[\u001b[0m\u001b[1;36m1\u001b[0m\u001b[1;33m:\u001b[0m\u001b[1;33m]\u001b[0m\u001b[1;33m)\u001b[0m\u001b[1;33m)\u001b[0m\u001b[1;33m\u001b[0m\u001b[1;33m\u001b[0m\u001b[0m\n\u001b[0;32m      4\u001b[0m \u001b[0mmodel\u001b[0m\u001b[1;33m.\u001b[0m\u001b[0madd\u001b[0m\u001b[1;33m(\u001b[0m\u001b[0mConv2D\u001b[0m\u001b[1;33m(\u001b[0m\u001b[0mfilters\u001b[0m\u001b[1;33m=\u001b[0m\u001b[1;36m32\u001b[0m\u001b[1;33m,\u001b[0m \u001b[0mkernel_size\u001b[0m\u001b[1;33m=\u001b[0m\u001b[1;33m(\u001b[0m\u001b[1;36m5\u001b[0m\u001b[1;33m,\u001b[0m \u001b[1;36m5\u001b[0m\u001b[1;33m)\u001b[0m\u001b[1;33m,\u001b[0m \u001b[0mactivation\u001b[0m\u001b[1;33m=\u001b[0m\u001b[1;34m'relu'\u001b[0m\u001b[1;33m)\u001b[0m\u001b[1;33m)\u001b[0m\u001b[1;33m\u001b[0m\u001b[1;33m\u001b[0m\u001b[0m\n\u001b[0;32m      5\u001b[0m \u001b[0mmodel\u001b[0m\u001b[1;33m.\u001b[0m\u001b[0madd\u001b[0m\u001b[1;33m(\u001b[0m\u001b[0mMaxPool2D\u001b[0m\u001b[1;33m(\u001b[0m\u001b[0mpool_size\u001b[0m\u001b[1;33m=\u001b[0m\u001b[1;33m(\u001b[0m\u001b[1;36m2\u001b[0m\u001b[1;33m,\u001b[0m \u001b[1;36m2\u001b[0m\u001b[1;33m)\u001b[0m\u001b[1;33m)\u001b[0m\u001b[1;33m)\u001b[0m\u001b[1;33m\u001b[0m\u001b[1;33m\u001b[0m\u001b[0m\n",
      "\u001b[1;31mNameError\u001b[0m: name 'Sequential' is not defined"
     ]
    }
   ],
   "source": [
    "model = Sequential()\n",
    "model2 = Sequential()\n",
    "model.add(Conv2D(filters=32, kernel_size=(5, 5), activation='relu', input_shape=X_train.shape[1:]))\n",
    "model.add(Conv2D(filters=32, kernel_size=(5, 5), activation='relu'))\n",
    "model.add(MaxPool2D(pool_size=(2, 2)))\n",
    "model.add(Dropout(rate=0.25))\n",
    "\n",
    "model.add(Conv2D(filters=64, kernel_size=(3, 3), activation='relu'))\n",
    "model.add(Conv2D(filters=64, kernel_size=(3, 3), activation='relu'))\n",
    "model.add(MaxPool2D(pool_size=(2, 2)))\n",
    "model.add(Dropout(rate=0.25))\n",
    "\n",
    "model.add(Flatten())\n",
    "model.add(Dense(256, activation='relu'))\n",
    "model.add(Dropout(rate=0.5))\n",
    "\n",
    "model.add(Dense(43, activation='softmax'))\n",
    "\n",
    "\n",
    "#\n",
    "# model2.add(Flatten(input_shape=X_train.shape[1:]))\n",
    "# model2.add(Dense(32,activation='relu'))\n",
    "# model2.add(Dense(64,activation='relu'))\n",
    "# model2.add(Dense(128,activation='relu'))\n",
    "# model2.add(Dense(256,activation='relu'))\n",
    "# model2.add(Dense(512,activation='relu'))\n",
    "#\n",
    "# model2.add(Dense(43,activation='softmax'))\n",
    "model.build()\n",
    "model.summary()"
   ]
  },
  {
   "cell_type": "code",
   "execution_count": 61,
   "metadata": {
    "pycharm": {
     "name": "#%%\n"
    }
   },
   "outputs": [],
   "source": [
    "\n",
    "model2.compile(loss='categorical_crossentropy', optimizer='adam', metrics=['accuracy'])"
   ]
  },
  {
   "cell_type": "code",
   "execution_count": null,
   "metadata": {
    "pycharm": {
     "name": "#%%\n"
    }
   },
   "outputs": [],
   "source": []
  },
  {
   "cell_type": "code",
   "execution_count": 62,
   "metadata": {
    "pycharm": {
     "name": "#%%\n"
    }
   },
   "outputs": [
    {
     "name": "stdout",
     "output_type": "stream",
     "text": [
      "Epoch 1/15\n",
      "981/981 [==============================] - 15s 14ms/step - loss: 3.7028 - accuracy: 0.0529 - val_loss: 3.4827 - val_accuracy: 0.0472\n",
      "Epoch 2/15\n",
      "981/981 [==============================] - 7s 7ms/step - loss: 3.4937 - accuracy: 0.0548 - val_loss: 3.4800 - val_accuracy: 0.0632\n",
      "Epoch 3/15\n",
      "981/981 [==============================] - 4s 4ms/step - loss: 3.4928 - accuracy: 0.0536 - val_loss: 3.4823 - val_accuracy: 0.0533\n",
      "Epoch 4/15\n",
      "981/981 [==============================] - 9s 10ms/step - loss: 3.4922 - accuracy: 0.0562 - val_loss: 3.4822 - val_accuracy: 0.0574\n",
      "Epoch 5/15\n",
      "981/981 [==============================] - 9s 9ms/step - loss: 3.4923 - accuracy: 0.0531 - val_loss: 3.4811 - val_accuracy: 0.0632\n",
      "Epoch 6/15\n",
      "981/981 [==============================] - 6s 6ms/step - loss: 3.4915 - accuracy: 0.0533 - val_loss: 3.4796 - val_accuracy: 0.0574\n",
      "Epoch 7/15\n",
      "981/981 [==============================] - 4s 4ms/step - loss: 3.4912 - accuracy: 0.0568 - val_loss: 3.4795 - val_accuracy: 0.0632\n",
      "Epoch 8/15\n",
      "981/981 [==============================] - 5s 5ms/step - loss: 3.4909 - accuracy: 0.0567 - val_loss: 3.4787 - val_accuracy: 0.0632\n",
      "Epoch 9/15\n",
      "981/981 [==============================] - 4s 4ms/step - loss: 3.4911 - accuracy: 0.0542 - val_loss: 3.4799 - val_accuracy: 0.0632\n",
      "Epoch 10/15\n",
      "981/981 [==============================] - 4s 4ms/step - loss: 3.4907 - accuracy: 0.0577 - val_loss: 3.4811 - val_accuracy: 0.0632\n",
      "Epoch 11/15\n",
      "981/981 [==============================] - 9s 9ms/step - loss: 3.4905 - accuracy: 0.0543 - val_loss: 3.4801 - val_accuracy: 0.0632\n",
      "Epoch 12/15\n",
      "981/981 [==============================] - 4s 4ms/step - loss: 3.4904 - accuracy: 0.0564 - val_loss: 3.4785 - val_accuracy: 0.0574\n",
      "Epoch 13/15\n",
      "981/981 [==============================] - 6s 6ms/step - loss: 3.4899 - accuracy: 0.0556 - val_loss: 3.4807 - val_accuracy: 0.0472\n",
      "Epoch 14/15\n",
      "981/981 [==============================] - 4s 4ms/step - loss: 3.4897 - accuracy: 0.0548 - val_loss: 3.4796 - val_accuracy: 0.0574\n",
      "Epoch 15/15\n",
      "981/981 [==============================] - 4s 4ms/step - loss: 3.4900 - accuracy: 0.0546 - val_loss: 3.4807 - val_accuracy: 0.0574\n"
     ]
    },
    {
     "data": {
      "text/plain": [
       "<keras.callbacks.History at 0x1e885172820>"
      ]
     },
     "execution_count": 62,
     "metadata": {},
     "output_type": "execute_result"
    }
   ],
   "source": [
    "\n",
    "\n",
    "epochs = 15\n",
    "model2.fit(X_train, y_train, batch_size=32, epochs=epochs, validation_data=(X_test, y_test))\n",
    "\n",
    "# model.save(\"my_model.h5\")\n",
    "\n"
   ]
  },
  {
   "cell_type": "code",
   "execution_count": 1,
   "metadata": {
    "pycharm": {
     "name": "#%%\n"
    }
   },
   "outputs": [
    {
     "ename": "NameError",
     "evalue": "name 'model2' is not defined",
     "output_type": "error",
     "traceback": [
      "\u001b[1;31m---------------------------------------------------------------------------\u001b[0m",
      "\u001b[1;31mNameError\u001b[0m                                 Traceback (most recent call last)",
      "\u001b[1;32m~\\AppData\\Local\\Temp\\ipykernel_26000\\74006500.py\u001b[0m in \u001b[0;36m<module>\u001b[1;34m\u001b[0m\n\u001b[0;32m      1\u001b[0m \u001b[1;31m# model.save('traffic_classifier.h5')\u001b[0m\u001b[1;33m\u001b[0m\u001b[1;33m\u001b[0m\u001b[0m\n\u001b[1;32m----> 2\u001b[1;33m \u001b[0mmodel2\u001b[0m\u001b[1;33m.\u001b[0m\u001b[0msave\u001b[0m\u001b[1;33m(\u001b[0m\u001b[1;34m'traffic_ann2.h5'\u001b[0m\u001b[1;33m)\u001b[0m\u001b[1;33m\u001b[0m\u001b[1;33m\u001b[0m\u001b[0m\n\u001b[0m",
      "\u001b[1;31mNameError\u001b[0m: name 'model2' is not defined"
     ]
    }
   ],
   "source": [
    "# model.save('traffic_classifier.h5')\n",
    "model2.save('traffic_ann2.h5')"
   ]
  },
  {
   "cell_type": "code",
   "execution_count": null,
   "metadata": {
    "pycharm": {
     "name": "#%%\n"
    }
   },
   "outputs": [
    {
     "name": "stdout",
     "output_type": "stream",
     "text": [
      "1/1 [==============================] - 0s 94ms/step\n",
      "Keep right\n",
      "1/1 [==============================] - 0s 16ms/step\n"
     ]
    }
   ],
   "source": [
    "from keras.models import load_model\n",
    "import numpy\n",
    "from PIL import Image\n",
    "\n",
    "classes = { 1:'Speed limit (20km/h)',\n",
    "            2:'Speed limit (30km/h)',\n",
    "            3:'Speed limit (50km/h)',\n",
    "            4:'Speed limit (60km/h)',\n",
    "            5:'Speed limit (70km/h)',\n",
    "            6:'Speed limit (80km/h)',\n",
    "            7:'End of speed limit (80km/h)',\n",
    "            8:'Speed limit (100km/h)',\n",
    "            9:'Speed limit (120km/h)',\n",
    "            10:'No passing',\n",
    "            11:'No passing veh over 3.5 tons',\n",
    "            12:'Right-of-way at intersection',\n",
    "            13:'Priority road',\n",
    "            14:'Yield',\n",
    "            15:'Stop',\n",
    "            16:'No vehicles',\n",
    "            17:'Veh > 3.5 tons prohibited',\n",
    "            18:'No entry',\n",
    "            19:'General caution',\n",
    "            20:'Dangerous curve left',\n",
    "            21:'Dangerous curve right',\n",
    "            22:'Double curve',\n",
    "            23:'Bumpy road',\n",
    "            24:'Slippery road',\n",
    "            25:'Road narrows on the right',\n",
    "            26:'Road work',\n",
    "            27:'Traffic signals',\n",
    "            28:'Pedestrians',\n",
    "            29:'Children crossing',\n",
    "            30:'Bicycles crossing',\n",
    "            31:'Beware of ice/snow',\n",
    "            32:'Wild animals crossing',\n",
    "            33:'End speed + passing limits',\n",
    "            34:'Turn right ahead',\n",
    "            35:'Turn left ahead',\n",
    "            36:'Ahead only',\n",
    "            37:'Go straight or right',\n",
    "            38:'Go straight or left',\n",
    "            39:'Keep right',\n",
    "            40:'Keep left',\n",
    "            41:'Roundabout mandatory',\n",
    "            42:'End of no passing',\n",
    "            43:'End no passing veh > 3.5 tons' }\n",
    "\n",
    "# model = load_model('traffic_ann2.h5')\n",
    "model = load_model('traffic_classifier.h5')\n",
    "image = Image.open(\"test/00019.png\")\n",
    "image = image.resize((30,30))\n",
    "image = numpy.expand_dims(image, axis=0)\n",
    "image = numpy.array(image)\n",
    "# pred = model.predict_classes([image])[0]\n",
    "predCnn = numpy.argmax(model.predict([image])[0], axis=-1)\n",
    "print(classes[predCnn + 1])\n",
    "\n",
    "\n",
    "import tkinter as tk\n",
    "from tkinter import filedialog\n",
    "from PIL import ImageTk, Image\n",
    "import numpy as np\n",
    "\n",
    "def select_image():\n",
    "    path = filedialog.askopenfilename()\n",
    "    image = Image.open(path)\n",
    "    image = image.resize((30, 30))\n",
    "    image = np.array(image)\n",
    "    image = np.expand_dims(image, axis=0)\n",
    "    # prediction = model.predict(image)\n",
    "    class_idx = numpy.argmax(model.predict([image])[0], axis=-1)\n",
    "    label.config(text=\"Predicted class: \" + str(classes[class_idx]))\n",
    "    img = ImageTk.PhotoImage(Image.open(path))\n",
    "    panel.config(image = img)\n",
    "    panel.image = img\n",
    "\n",
    "root = tk.Tk()\n",
    "root.title(\"Image Classifier\")\n",
    "root.geometry(\"500x500\")\n",
    "\n",
    "btn = tk.Button(root, text=\"Select image\", command=select_image)\n",
    "btn.pack()\n",
    "\n",
    "panel = tk.Label(root)\n",
    "panel.pack()\n",
    "\n",
    "label = tk.Label(root)\n",
    "label.pack()\n",
    "\n",
    "root.mainloop()"
   ]
  },
  {
   "cell_type": "code",
   "execution_count": 6,
   "metadata": {
    "pycharm": {
     "name": "#%%\n"
    }
   },
   "outputs": [],
   "source": [
    "import tensorflowjs as tfjs\n",
    "from keras.models import load_model\n",
    "import os\n",
    "model = load_model('traffic_ann.h5')\n",
    "\n",
    "# Convert the model to TensorFlow.js format\n",
    "tfjs.converters.save_keras_model(model,os.getcwd())"
   ]
  }
 ],
 "metadata": {
  "kernelspec": {
   "display_name": "Python 3 (ipykernel)",
   "language": "python",
   "name": "python3"
  },
  "language_info": {
   "codemirror_mode": {
    "name": "ipython",
    "version": 3
   },
   "file_extension": ".py",
   "mimetype": "text/x-python",
   "name": "python",
   "nbconvert_exporter": "python",
   "pygments_lexer": "ipython3",
   "version": "3.9.13"
  }
 },
 "nbformat": 4,
 "nbformat_minor": 1
}
